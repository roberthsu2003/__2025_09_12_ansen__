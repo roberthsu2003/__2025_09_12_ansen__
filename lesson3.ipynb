{
  "nbformat": 4,
  "nbformat_minor": 0,
  "metadata": {
    "colab": {
      "provenance": [],
      "authorship_tag": "ABX9TyMLd3/heIirah2A8h5aDfSq",
      "include_colab_link": true
    },
    "kernelspec": {
      "name": "python3",
      "display_name": "Python 3"
    },
    "language_info": {
      "name": "python"
    }
  },
  "cells": [
    {
      "cell_type": "markdown",
      "metadata": {
        "id": "view-in-github",
        "colab_type": "text"
      },
      "source": [
        "<a href=\"https://colab.research.google.com/github/roberthsu2003/__2025_09_12_ansen__/blob/main/lesson3.ipynb\" target=\"_parent\"><img src=\"https://colab.research.google.com/assets/colab-badge.svg\" alt=\"Open In Colab\"/></a>"
      ]
    },
    {
      "cell_type": "code",
      "execution_count": 6,
      "metadata": {
        "id": "FFuOiGeuqCP7",
        "colab": {
          "base_uri": "https://localhost:8080/"
        },
        "outputId": "e3c7094a-e583-453f-f691-3798c0d27223"
      },
      "outputs": [
        {
          "output_type": "stream",
          "name": "stdout",
          "text": [
            "請輸入age:17\n",
            "不可以考駕照\n"
          ]
        }
      ],
      "source": [
        "#age = 18\n",
        "age = int(input('請輸入age:'))\n",
        "\n",
        "if age >= 18:\n",
        "  print(\"可以考駕照\")\n",
        "else:\n",
        "  print(\"不可以考駕照\")"
      ]
    },
    {
      "cell_type": "code",
      "source": [
        "#學生總分為300\n",
        "#有些學生可以加分5%\n",
        "#如果加分超過300,就以300分為準\n",
        "\n",
        "scores = int(input(\"請輸入學生分數(最高300分):\"))\n",
        "is_add = input(\"學生是否符合加分條件?(y,n)\")\n",
        "\n",
        "if is_add == \"y\":\n",
        "  scores = scores * 1.05\n",
        "\n",
        "print(scores)"
      ],
      "metadata": {
        "id": "o_5wqUmGxBuM",
        "outputId": "f75a1f1e-560e-4832-b682-755a0cb4e7de",
        "colab": {
          "base_uri": "https://localhost:8080/"
        }
      },
      "execution_count": 8,
      "outputs": [
        {
          "output_type": "stream",
          "name": "stdout",
          "text": [
            "請輸入學生分數(最高300分):100\n",
            "學生是否符合加分條件?(y,n)y\n",
            "105.0\n"
          ]
        }
      ]
    },
    {
      "cell_type": "code",
      "source": [],
      "metadata": {
        "id": "p8k_LbURxWRi"
      },
      "execution_count": null,
      "outputs": []
    }
  ]
}