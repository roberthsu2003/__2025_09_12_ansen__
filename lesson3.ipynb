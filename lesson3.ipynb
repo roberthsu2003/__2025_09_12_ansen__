{
  "nbformat": 4,
  "nbformat_minor": 0,
  "metadata": {
    "colab": {
      "provenance": [],
      "authorship_tag": "ABX9TyME5kXOhrpP0E16GRwY55lo",
      "include_colab_link": true
    },
    "kernelspec": {
      "name": "python3",
      "display_name": "Python 3"
    },
    "language_info": {
      "name": "python"
    }
  },
  "cells": [
    {
      "cell_type": "markdown",
      "metadata": {
        "id": "view-in-github",
        "colab_type": "text"
      },
      "source": [
        "<a href=\"https://colab.research.google.com/github/roberthsu2003/__2025_09_12_ansen__/blob/main/lesson3.ipynb\" target=\"_parent\"><img src=\"https://colab.research.google.com/assets/colab-badge.svg\" alt=\"Open In Colab\"/></a>"
      ]
    },
    {
      "cell_type": "code",
      "execution_count": null,
      "metadata": {
        "id": "FFuOiGeuqCP7",
        "colab": {
          "base_uri": "https://localhost:8080/"
        },
        "outputId": "e3c7094a-e583-453f-f691-3798c0d27223"
      },
      "outputs": [
        {
          "output_type": "stream",
          "name": "stdout",
          "text": [
            "請輸入age:17\n",
            "不可以考駕照\n"
          ]
        }
      ],
      "source": [
        "#age = 18\n",
        "age = int(input('請輸入age:'))\n",
        "\n",
        "if age >= 18:\n",
        "  print(\"可以考駕照\")\n",
        "else:\n",
        "  print(\"不可以考駕照\")"
      ]
    },
    {
      "cell_type": "code",
      "source": [
        "#學生總分為300\n",
        "#有些學生可以加分5%\n",
        "#如果加分超過300,就以300分為準\n",
        "\n",
        "scores = int(input(\"請輸入學生分數(最高300分):\"))\n",
        "is_add = input(\"學生是否符合加分條件?(y,n)\")\n",
        "\n",
        "if is_add == \"y\":\n",
        "  scores = scores * 1.05 #加分\n",
        "  if scores > 300:\n",
        "    scores = 300\n",
        "\n",
        "print(scores)"
      ],
      "metadata": {
        "colab": {
          "base_uri": "https://localhost:8080/"
        },
        "id": "o_5wqUmGxBuM",
        "outputId": "2397029e-d2c7-470c-d5b1-028709dac536"
      },
      "execution_count": null,
      "outputs": [
        {
          "output_type": "stream",
          "name": "stdout",
          "text": [
            "請輸入學生分數(最高300分):280\n",
            "學生是否符合加分條件?(y,n)y\n",
            "294.0\n"
          ]
        }
      ]
    },
    {
      "cell_type": "code",
      "source": [
        "try:\n",
        "  money = int(input(\"請輸入金額:\"))\n",
        "  print(money)\n",
        "except ValueError:\n",
        "  print(\"無法轉換金額\")\n",
        "\n"
      ],
      "metadata": {
        "id": "p8k_LbURxWRi",
        "outputId": "986a095a-99f1-4970-8d4a-6c01d0ec7adf",
        "colab": {
          "base_uri": "https://localhost:8080/"
        }
      },
      "execution_count": 15,
      "outputs": [
        {
          "output_type": "stream",
          "name": "stdout",
          "text": [
            "請輸入金額:1000a\n",
            "無法轉換金額\n"
          ]
        }
      ]
    }
  ]
}