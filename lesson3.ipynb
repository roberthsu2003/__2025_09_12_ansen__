{
  "nbformat": 4,
  "nbformat_minor": 0,
  "metadata": {
    "colab": {
      "provenance": [],
      "authorship_tag": "ABX9TyMeL5DO82aiQJFv+DoTS9gA",
      "include_colab_link": true
    },
    "kernelspec": {
      "name": "python3",
      "display_name": "Python 3"
    },
    "language_info": {
      "name": "python"
    }
  },
  "cells": [
    {
      "cell_type": "markdown",
      "metadata": {
        "id": "view-in-github",
        "colab_type": "text"
      },
      "source": [
        "<a href=\"https://colab.research.google.com/github/roberthsu2003/__2025_09_12_ansen__/blob/main/lesson3.ipynb\" target=\"_parent\"><img src=\"https://colab.research.google.com/assets/colab-badge.svg\" alt=\"Open In Colab\"/></a>"
      ]
    },
    {
      "cell_type": "code",
      "execution_count": 2,
      "metadata": {
        "id": "FFuOiGeuqCP7",
        "colab": {
          "base_uri": "https://localhost:8080/"
        },
        "outputId": "76370db2-c8f6-4c87-afe8-f7ff97e4c488"
      },
      "outputs": [
        {
          "output_type": "stream",
          "name": "stdout",
          "text": [
            "可以考駕照\n"
          ]
        }
      ],
      "source": [
        "age = 18\n",
        "\n",
        "if age >= 18:\n",
        "  print(\"可以考駕照\")\n",
        "else:\n",
        "  print(\"不可以考駕照\")"
      ]
    }
  ]
}