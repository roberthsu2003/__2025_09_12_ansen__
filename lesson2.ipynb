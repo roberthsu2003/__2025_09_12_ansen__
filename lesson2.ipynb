{
  "nbformat": 4,
  "nbformat_minor": 0,
  "metadata": {
    "colab": {
      "provenance": [],
      "authorship_tag": "ABX9TyOJnTXgHg50mSYLqCVZFqdP",
      "include_colab_link": true
    },
    "kernelspec": {
      "name": "python3",
      "display_name": "Python 3"
    },
    "language_info": {
      "name": "python"
    }
  },
  "cells": [
    {
      "cell_type": "markdown",
      "metadata": {
        "id": "view-in-github",
        "colab_type": "text"
      },
      "source": [
        "<a href=\"https://colab.research.google.com/github/roberthsu2003/__2025_09_12_ansen__/blob/main/lesson2.ipynb\" target=\"_parent\"><img src=\"https://colab.research.google.com/assets/colab-badge.svg\" alt=\"Open In Colab\"/></a>"
      ]
    },
    {
      "cell_type": "code",
      "execution_count": 2,
      "metadata": {
        "id": "-kPBr-JWgdO1",
        "colab": {
          "base_uri": "https://localhost:8080/"
        },
        "outputId": "3f903912-8f25-48d9-9094-346ad7248990"
      },
      "outputs": [
        {
          "output_type": "stream",
          "name": "stdout",
          "text": [
            "請計算矩形的面積和週長\n",
            "寬= 56.9\n",
            "高= 95.8\n",
            "面積= 5451.0199999999995\n",
            "周長= 305.4\n"
          ]
        }
      ],
      "source": [
        "width = 56.9\n",
        "height = 95.8\n",
        "area = width * height\n",
        "m2 = width * 2 + height * 2\n",
        "print(\"請計算矩形的面積和週長\")\n",
        "print(\"寬=\",width)\n",
        "print(\"高=\", height)\n",
        "print(\"面積=\",area)\n",
        "print(\"周長=\",m2)"
      ]
    },
    {
      "cell_type": "code",
      "source": [
        "#使用input(),輸入\n",
        "width = float(input(\"請輸入寬:\"))\n",
        "height = float(input(\"請輸入高:\"))\n",
        "\n",
        "area = width * height\n",
        "m2 = width * 2 + height * 2\n",
        "print(\"請計算矩形的面積和週長\")\n",
        "print(\"寬=\",width)\n",
        "print(\"高=\", height)\n",
        "print(\"面積=\",area)\n",
        "print(\"周長=\",m2)"
      ],
      "metadata": {
        "colab": {
          "base_uri": "https://localhost:8080/"
        },
        "id": "IrdAyBRijNap",
        "outputId": "540c6478-7b0b-405e-dd53-5fd846579196"
      },
      "execution_count": 7,
      "outputs": [
        {
          "output_type": "stream",
          "name": "stdout",
          "text": [
            "請輸入寬:50.7\n",
            "請輸入高:89.7\n",
            "請計算矩形的面積和週長\n",
            "寬= 50.7\n",
            "高= 89.7\n",
            "面積= 4547.79\n",
            "周長= 280.8\n"
          ]
        }
      ]
    }
  ]
}