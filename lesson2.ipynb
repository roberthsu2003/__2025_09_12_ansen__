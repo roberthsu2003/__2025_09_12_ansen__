{
  "nbformat": 4,
  "nbformat_minor": 0,
  "metadata": {
    "colab": {
      "provenance": [],
      "authorship_tag": "ABX9TyNaA2kdjHh2eGeglBWrMVEg",
      "include_colab_link": true
    },
    "kernelspec": {
      "name": "python3",
      "display_name": "Python 3"
    },
    "language_info": {
      "name": "python"
    }
  },
  "cells": [
    {
      "cell_type": "markdown",
      "metadata": {
        "id": "view-in-github",
        "colab_type": "text"
      },
      "source": [
        "<a href=\"https://colab.research.google.com/github/roberthsu2003/__2025_09_12_ansen__/blob/main/lesson2.ipynb\" target=\"_parent\"><img src=\"https://colab.research.google.com/assets/colab-badge.svg\" alt=\"Open In Colab\"/></a>"
      ]
    },
    {
      "cell_type": "code",
      "execution_count": 2,
      "metadata": {
        "id": "-kPBr-JWgdO1",
        "colab": {
          "base_uri": "https://localhost:8080/"
        },
        "outputId": "3f903912-8f25-48d9-9094-346ad7248990"
      },
      "outputs": [
        {
          "output_type": "stream",
          "name": "stdout",
          "text": [
            "請計算矩形的面積和週長\n",
            "寬= 56.9\n",
            "高= 95.8\n",
            "面積= 5451.0199999999995\n",
            "周長= 305.4\n"
          ]
        }
      ],
      "source": [
        "width = 56.9\n",
        "height = 95.8\n",
        "area = width * height\n",
        "m2 = width * 2 + height * 2\n",
        "print(\"請計算矩形的面積和週長\")\n",
        "print(\"寬=\",width)\n",
        "print(\"高=\", height)\n",
        "print(\"面積=\",area)\n",
        "print(\"周長=\",m2)"
      ]
    },
    {
      "cell_type": "code",
      "source": [
        "#使用input(),輸入\n",
        "width = float(input(\"請輸入寬:\"))\n",
        "height = float(input(\"請輸入高:\"))\n",
        "\n",
        "area = width * height\n",
        "m2 = width * 2 + height * 2\n",
        "print(\"請計算矩形的面積和週長\")\n",
        "print(\"寬=\",width)\n",
        "print(\"高=\", height)\n",
        "print(\"面積=\",area)\n",
        "print(\"周長=\",m2)"
      ],
      "metadata": {
        "colab": {
          "base_uri": "https://localhost:8080/"
        },
        "id": "IrdAyBRijNap",
        "outputId": "540c6478-7b0b-405e-dd53-5fd846579196"
      },
      "execution_count": 7,
      "outputs": [
        {
          "output_type": "stream",
          "name": "stdout",
          "text": [
            "請輸入寬:50.7\n",
            "請輸入高:89.7\n",
            "請計算矩形的面積和週長\n",
            "寬= 50.7\n",
            "高= 89.7\n",
            "面積= 4547.79\n",
            "周長= 280.8\n"
          ]
        }
      ]
    },
    {
      "cell_type": "code",
      "source": [
        "print(\"        *\")\n",
        "print(\"       ***\")\n",
        "print(\"      *****\")\n",
        "print(\"     *******\")\n",
        "print(\"    *********\")\n",
        "print(\"   ***********\")\n",
        "print(\"  *************\")\n",
        "print(\" ***************\")\n",
        "print(\"*****************\")\n",
        "print(\"       ***\")\n",
        "print(\"       ***\")\n",
        "print(\"       ***\")"
      ],
      "metadata": {
        "colab": {
          "base_uri": "https://localhost:8080/"
        },
        "id": "qUBbfjCloED1",
        "outputId": "9d586840-6f8d-490d-8d0e-cf1184a56872"
      },
      "execution_count": 8,
      "outputs": [
        {
          "output_type": "stream",
          "name": "stdout",
          "text": [
            "        *\n",
            "       ***\n",
            "      *****\n",
            "     *******\n",
            "    *********\n",
            "   ***********\n",
            "  *************\n",
            " ***************\n",
            "*****************\n",
            "       ***\n",
            "       ***\n",
            "       ***\n"
          ]
        }
      ]
    },
    {
      "cell_type": "code",
      "source": [
        "#三角形面積\n",
        "print(\"==========請算三角形的面積========\\n\")\n",
        "bottom = float(input(\"請輸入下底:\"))\n",
        "height = float(input(\"請輸入高:\"))\n",
        "area = (bottom *  height) / 2\n",
        "print(\"三角型的面積是\", area)"
      ],
      "metadata": {
        "colab": {
          "base_uri": "https://localhost:8080/"
        },
        "id": "YbRNfTvbpuL6",
        "outputId": "1478313e-a72f-4d7c-9ff3-a9005ad01821"
      },
      "execution_count": 9,
      "outputs": [
        {
          "output_type": "stream",
          "name": "stdout",
          "text": [
            "==========請算三角型的面積========\n",
            "\n",
            "請輸入下底:45.98\n",
            "請輸入高:32.75\n",
            "三角型的面積是 752.9224999999999\n"
          ]
        }
      ]
    },
    {
      "cell_type": "code",
      "source": [
        "#梯形面積\n",
        "\n",
        "top = float(input(\"請輸入上底:\"))\n",
        "bottom = float(input(\"請輸入下底\"))\n",
        "height = float(input(\"請輸入高\"))\n",
        "area = (top + bottom) * height / 2\n",
        "print(\"梯形面積:\",area)"
      ],
      "metadata": {
        "id": "7gAgLfN9q539",
        "outputId": "41fb1df4-3f6b-4bff-c0d0-55681135b440",
        "colab": {
          "base_uri": "https://localhost:8080/"
        }
      },
      "execution_count": 10,
      "outputs": [
        {
          "output_type": "stream",
          "name": "stdout",
          "text": [
            "請輸入上底:45.98\n",
            "請輸入下底23.79\n",
            "請輸入高19.6\n",
            "梯形面積: 683.746\n"
          ]
        }
      ]
    }
  ]
}