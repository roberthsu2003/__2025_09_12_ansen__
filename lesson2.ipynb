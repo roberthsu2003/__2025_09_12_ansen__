{
  "nbformat": 4,
  "nbformat_minor": 0,
  "metadata": {
    "colab": {
      "provenance": [],
      "authorship_tag": "ABX9TyO7AUHBkXkbRhMcATd9hVJs",
      "include_colab_link": true
    },
    "kernelspec": {
      "name": "python3",
      "display_name": "Python 3"
    },
    "language_info": {
      "name": "python"
    }
  },
  "cells": [
    {
      "cell_type": "markdown",
      "metadata": {
        "id": "view-in-github",
        "colab_type": "text"
      },
      "source": [
        "<a href=\"https://colab.research.google.com/github/roberthsu2003/__2025_09_12_ansen__/blob/main/lesson2.ipynb\" target=\"_parent\"><img src=\"https://colab.research.google.com/assets/colab-badge.svg\" alt=\"Open In Colab\"/></a>"
      ]
    },
    {
      "cell_type": "code",
      "execution_count": 2,
      "metadata": {
        "id": "-kPBr-JWgdO1",
        "colab": {
          "base_uri": "https://localhost:8080/"
        },
        "outputId": "3f903912-8f25-48d9-9094-346ad7248990"
      },
      "outputs": [
        {
          "output_type": "stream",
          "name": "stdout",
          "text": [
            "請計算矩形的面積和週長\n",
            "寬= 56.9\n",
            "高= 95.8\n",
            "面積= 5451.0199999999995\n",
            "周長= 305.4\n"
          ]
        }
      ],
      "source": [
        "width = 56.9\n",
        "height = 95.8\n",
        "area = width * height\n",
        "m2 = width * 2 + height * 2\n",
        "print(\"請計算矩形的面積和週長\")\n",
        "print(\"寬=\",width)\n",
        "print(\"高=\", height)\n",
        "print(\"面積=\",area)\n",
        "print(\"周長=\",m2)"
      ]
    },
    {
      "cell_type": "code",
      "source": [],
      "metadata": {
        "id": "BQA3Sw6CiI9n"
      },
      "execution_count": null,
      "outputs": []
    },
    {
      "cell_type": "code",
      "source": [
        "#使用input(),輸入\n",
        "width = float(input(\"請輸入寬:\"))\n",
        "height = float(input(\"請輸入高:\"))\n",
        "\n",
        "print(width)\n",
        "print(height)"
      ],
      "metadata": {
        "id": "IrdAyBRijNap",
        "outputId": "107a38e6-b8bd-4a69-b820-74d0bff3ca50",
        "colab": {
          "base_uri": "https://localhost:8080/"
        }
      },
      "execution_count": 6,
      "outputs": [
        {
          "output_type": "stream",
          "name": "stdout",
          "text": [
            "請輸入寬:50.6\n",
            "請輸入高:60.9\n",
            "50.6\n",
            "60.9\n"
          ]
        }
      ]
    },
    {
      "cell_type": "code",
      "source": [
        "50 + \"50\""
      ],
      "metadata": {
        "id": "2d16fBrGjr0p",
        "outputId": "1427c2e9-ab2a-420f-d301-09b889076f21",
        "colab": {
          "base_uri": "https://localhost:8080/",
          "height": 139
        }
      },
      "execution_count": 4,
      "outputs": [
        {
          "output_type": "error",
          "ename": "TypeError",
          "evalue": "unsupported operand type(s) for +: 'int' and 'str'",
          "traceback": [
            "\u001b[0;31m---------------------------------------------------------------------------\u001b[0m",
            "\u001b[0;31mTypeError\u001b[0m                                 Traceback (most recent call last)",
            "\u001b[0;32m/tmp/ipython-input-2807373470.py\u001b[0m in \u001b[0;36m<cell line: 0>\u001b[0;34m()\u001b[0m\n\u001b[0;32m----> 1\u001b[0;31m \u001b[0;36m50\u001b[0m \u001b[0;34m+\u001b[0m \u001b[0;34m\"50\"\u001b[0m\u001b[0;34m\u001b[0m\u001b[0;34m\u001b[0m\u001b[0m\n\u001b[0m",
            "\u001b[0;31mTypeError\u001b[0m: unsupported operand type(s) for +: 'int' and 'str'"
          ]
        }
      ]
    }
  ]
}