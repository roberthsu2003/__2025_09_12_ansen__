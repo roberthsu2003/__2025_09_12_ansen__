{
  "nbformat": 4,
  "nbformat_minor": 0,
  "metadata": {
    "colab": {
      "provenance": [],
      "authorship_tag": "ABX9TyNnEslddx1NvLkV6/zFY2Ay",
      "include_colab_link": true
    },
    "kernelspec": {
      "name": "python3",
      "display_name": "Python 3"
    },
    "language_info": {
      "name": "python"
    }
  },
  "cells": [
    {
      "cell_type": "markdown",
      "metadata": {
        "id": "view-in-github",
        "colab_type": "text"
      },
      "source": [
        "<a href=\"https://colab.research.google.com/github/roberthsu2003/__2025_09_12_ansen__/blob/main/lesson2_1.ipynb\" target=\"_parent\"><img src=\"https://colab.research.google.com/assets/colab-badge.svg\" alt=\"Open In Colab\"/></a>"
      ]
    },
    {
      "cell_type": "code",
      "execution_count": null,
      "metadata": {
        "colab": {
          "base_uri": "https://localhost:8080/"
        },
        "id": "SEABXfaRwEtE",
        "outputId": "0f010542-dce7-4615-b9f7-3989121dafeb"
      },
      "outputs": [
        {
          "output_type": "stream",
          "name": "stdout",
          "text": [
            "請輸入age:16\n",
            "不可以考駕照!\n"
          ]
        }
      ],
      "source": [
        "age = int(input(\"請輸入age:\"))\n",
        "if age >= 18:\n",
        "  print(\"可以考駕照!\")\n",
        "else:\n",
        "  print(\"不可以考駕照!\")"
      ]
    }
  ]
}