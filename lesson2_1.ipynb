{
  "nbformat": 4,
  "nbformat_minor": 0,
  "metadata": {
    "colab": {
      "provenance": [],
      "authorship_tag": "ABX9TyN0e141hQhlO1xe7H/F7yp1",
      "include_colab_link": true
    },
    "kernelspec": {
      "name": "python3",
      "display_name": "Python 3"
    },
    "language_info": {
      "name": "python"
    }
  },
  "cells": [
    {
      "cell_type": "markdown",
      "metadata": {
        "id": "view-in-github",
        "colab_type": "text"
      },
      "source": [
        "<a href=\"https://colab.research.google.com/github/roberthsu2003/__2025_09_12_ansen__/blob/main/lesson2_1.ipynb\" target=\"_parent\"><img src=\"https://colab.research.google.com/assets/colab-badge.svg\" alt=\"Open In Colab\"/></a>"
      ]
    },
    {
      "cell_type": "code",
      "execution_count": null,
      "metadata": {
        "colab": {
          "base_uri": "https://localhost:8080/"
        },
        "id": "SEABXfaRwEtE",
        "outputId": "0f010542-dce7-4615-b9f7-3989121dafeb"
      },
      "outputs": [
        {
          "output_type": "stream",
          "name": "stdout",
          "text": [
            "請輸入age:16\n",
            "不可以考駕照!\n"
          ]
        }
      ],
      "source": [
        "age = int(input(\"請輸入age:\"))\n",
        "if age >= 18:\n",
        "  print(\"可以考駕照!\")\n",
        "else:\n",
        "  print(\"不可以考駕照!\")"
      ]
    },
    {
      "cell_type": "code",
      "source": [
        "chinese = int(input(\"請輸入國文成績:\"))\n",
        "english = int(input(\"請輸入英文成績:\"))\n",
        "math = int(input(\"請輸入數學成績:\"))\n",
        "average = (chinese + english + math) / 3\n",
        "print(\"平均:\", average)\n",
        "\n",
        "if average >= 80:\n",
        "  print(\"優\")\n",
        "else:\n",
        "  print(\"不及格\")"
      ],
      "metadata": {
        "colab": {
          "base_uri": "https://localhost:8080/"
        },
        "id": "RvDIUMh7zyp-",
        "outputId": "c9a7dcb0-44d5-4603-8925-cce9cc6a29fb"
      },
      "execution_count": 3,
      "outputs": [
        {
          "output_type": "stream",
          "name": "stdout",
          "text": [
            "請輸入國文成績:60\n",
            "請輸入英文成績:90\n",
            "請輸入數學成績:89\n",
            "平均: 79.66666666666667\n",
            "不及格\n"
          ]
        }
      ]
    },
    {
      "cell_type": "code",
      "source": [
        "scores = int(input(\"請輸入您的分數:\"))\n",
        "if scores >= 80:\n",
        "  print(\"優\")\n",
        "else:\n",
        "  if scores >= 60:\n",
        "    print(\"及格\")\n",
        "  else:\n",
        "    print(\"不及格\")"
      ],
      "metadata": {
        "id": "DB7EbAZM3B8D",
        "outputId": "24a5b1ce-1547-4dd9-e3e0-b9f3916d266a",
        "colab": {
          "base_uri": "https://localhost:8080/"
        }
      },
      "execution_count": 6,
      "outputs": [
        {
          "output_type": "stream",
          "name": "stdout",
          "text": [
            "請輸入您的分數:59\n",
            "不及格\n"
          ]
        }
      ]
    }
  ]
}