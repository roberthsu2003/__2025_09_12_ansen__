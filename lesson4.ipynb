{
  "nbformat": 4,
  "nbformat_minor": 0,
  "metadata": {
    "colab": {
      "provenance": [],
      "authorship_tag": "ABX9TyOQ/8wg17oT6iJKd6Gxqbom",
      "include_colab_link": true
    },
    "kernelspec": {
      "name": "python3",
      "display_name": "Python 3"
    },
    "language_info": {
      "name": "python"
    }
  },
  "cells": [
    {
      "cell_type": "markdown",
      "metadata": {
        "id": "view-in-github",
        "colab_type": "text"
      },
      "source": [
        "<a href=\"https://colab.research.google.com/github/roberthsu2003/__2025_09_12_ansen__/blob/main/lesson4.ipynb\" target=\"_parent\"><img src=\"https://colab.research.google.com/assets/colab-badge.svg\" alt=\"Open In Colab\"/></a>"
      ]
    },
    {
      "cell_type": "code",
      "execution_count": 3,
      "metadata": {
        "id": "pYUn_oXsv43-",
        "colab": {
          "base_uri": "https://localhost:8080/"
        },
        "outputId": "d3800914-d763-466a-8719-ce7bd93b08c5"
      },
      "outputs": [
        {
          "output_type": "stream",
          "name": "stdout",
          "text": [
            "請輸入國文分數:59\n",
            "不及格\n"
          ]
        }
      ],
      "source": [
        "#利用巢狀判斷,建立2個以上的區段\n",
        "scores = int(input(\"請輸入國文分數:\"))\n",
        "if scores >= 80:\n",
        "  print(\"優\")\n",
        "else:\n",
        "  if scores >= 60:\n",
        "    print(\"及格\")\n",
        "  else:\n",
        "    print(\"不及格\")"
      ]
    },
    {
      "cell_type": "code",
      "source": [
        "# 多項選擇\n",
        "\n",
        "scores = int(input(\"請輸入國文分數:\"))\n",
        "if scores >= 80:\n",
        "  print(\"優\")\n",
        "elif scores >= 60:\n",
        "  print(\"及格\")\n",
        "else:\n",
        "  print(\"不及格\")"
      ],
      "metadata": {
        "id": "Mnbc6oRJ1BCE"
      },
      "execution_count": null,
      "outputs": []
    },
    {
      "cell_type": "code",
      "source": [
        "# 多項選擇\n",
        "scores = int(input(\"請輸入國文分數:\"))\n",
        "if scores >= 90:\n",
        "  print(\"優\")\n",
        "elif scores >= 80:\n",
        "  print(\"甲\")\n",
        "elif scores >= 70:\n",
        "  print(\"乙\")\n",
        "elif scores >= 60:\n",
        "  print(\"丙\")\n",
        "else:\n",
        "  print(\"丁\")"
      ],
      "metadata": {
        "colab": {
          "base_uri": "https://localhost:8080/"
        },
        "id": "XUvhtyOh4vz-",
        "outputId": "463bdbbe-ba76-4bc0-aaf2-f9d7fb68f7ce"
      },
      "execution_count": 8,
      "outputs": [
        {
          "output_type": "stream",
          "name": "stdout",
          "text": [
            "請輸入國文分數:59\n",
            "丁\n"
          ]
        }
      ]
    },
    {
      "cell_type": "code",
      "source": [
        "pressure = int(input(\"請輸入血壓:\"))\n",
        "if pressure >=90 and pressure <= 120:\n",
        "  print(\"正常\")\n",
        "else:\n",
        "  print(\"不正常\")"
      ],
      "metadata": {
        "colab": {
          "base_uri": "https://localhost:8080/"
        },
        "id": "VdQYme-X84OX",
        "outputId": "4926e07c-e892-46d3-992b-f36e406c7afc"
      },
      "execution_count": 11,
      "outputs": [
        {
          "output_type": "stream",
          "name": "stdout",
          "text": [
            "請輸入血壓:100\n",
            "正常\n"
          ]
        }
      ]
    },
    {
      "cell_type": "code",
      "source": [
        "pressure = int(input(\"請輸入血壓:\"))\n",
        "if 90 <= pressure <= 120:\n",
        "  print(\"正常\")\n",
        "else:\n",
        "  print(\"不正常\")"
      ],
      "metadata": {
        "colab": {
          "base_uri": "https://localhost:8080/"
        },
        "id": "LOQv2dJJ-oqQ",
        "outputId": "0decc285-4ea8-413d-b4cd-a512158c5a7e"
      },
      "execution_count": 14,
      "outputs": [
        {
          "output_type": "stream",
          "name": "stdout",
          "text": [
            "請輸入血壓:100\n",
            "正常\n"
          ]
        }
      ]
    },
    {
      "cell_type": "code",
      "source": [
        "pressure = int(input(\"請輸入血壓:\"))\n",
        "if pressure < 90 or pressure > 120:\n",
        "  print(\"不正常\")\n",
        "else:\n",
        "  print(\"正常\")"
      ],
      "metadata": {
        "colab": {
          "base_uri": "https://localhost:8080/"
        },
        "id": "pv4sbmjR_rVs",
        "outputId": "330cb3c6-7fc4-42c1-dac6-a57bf1fe227a"
      },
      "execution_count": 17,
      "outputs": [
        {
          "output_type": "stream",
          "name": "stdout",
          "text": [
            "請輸入血壓:130\n",
            "不正常\n"
          ]
        }
      ]
    },
    {
      "cell_type": "code",
      "source": [
        "# 國文分數和數學分數,同時100分,獎金1000\n",
        "# 國文分數和數學分數,只要一科100分,獎金500\n",
        "\n",
        "chinese = int(input(\"請輸入國文分數:\"))\n",
        "math = int(input(\"請輸入數學分數:\"))\n",
        "\n",
        "if chinese == 100 and math == 100:\n",
        "  bonus = 1000\n",
        "elif chinese == 100 or math == 100:\n",
        "  bonus = 500\n",
        "else:\n",
        "  bonus = 0\n",
        "\n",
        "print(f\"獎金:{bonus}\")"
      ],
      "metadata": {
        "id": "mcIlHqA1Agr4",
        "outputId": "990c73a7-2c38-4229-8d53-556799b440f8",
        "colab": {
          "base_uri": "https://localhost:8080/"
        }
      },
      "execution_count": 22,
      "outputs": [
        {
          "output_type": "stream",
          "name": "stdout",
          "text": [
            "請輸入國文分數:99\n",
            "請輸入數學分數:99\n",
            "獎金:0\n"
          ]
        }
      ]
    }
  ]
}