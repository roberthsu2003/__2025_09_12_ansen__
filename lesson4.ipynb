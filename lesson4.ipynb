{
  "nbformat": 4,
  "nbformat_minor": 0,
  "metadata": {
    "colab": {
      "provenance": [],
      "authorship_tag": "ABX9TyOp/RjaNeD2B4Yz762/VAt7",
      "include_colab_link": true
    },
    "kernelspec": {
      "name": "python3",
      "display_name": "Python 3"
    },
    "language_info": {
      "name": "python"
    }
  },
  "cells": [
    {
      "cell_type": "markdown",
      "metadata": {
        "id": "view-in-github",
        "colab_type": "text"
      },
      "source": [
        "<a href=\"https://colab.research.google.com/github/roberthsu2003/__2025_09_12_ansen__/blob/main/lesson4.ipynb\" target=\"_parent\"><img src=\"https://colab.research.google.com/assets/colab-badge.svg\" alt=\"Open In Colab\"/></a>"
      ]
    },
    {
      "cell_type": "code",
      "execution_count": 3,
      "metadata": {
        "id": "pYUn_oXsv43-",
        "colab": {
          "base_uri": "https://localhost:8080/"
        },
        "outputId": "d3800914-d763-466a-8719-ce7bd93b08c5"
      },
      "outputs": [
        {
          "output_type": "stream",
          "name": "stdout",
          "text": [
            "請輸入國文分數:59\n",
            "不及格\n"
          ]
        }
      ],
      "source": [
        "#利用巢狀判斷,建立2個以上的區段\n",
        "scores = int(input(\"請輸入國文分數:\"))\n",
        "if scores >= 80:\n",
        "  print(\"優\")\n",
        "else:\n",
        "  if scores >= 60:\n",
        "    print(\"及格\")\n",
        "  else:\n",
        "    print(\"不及格\")"
      ]
    },
    {
      "cell_type": "code",
      "source": [
        "# 多項選擇\n",
        "\n",
        "scores = int(input(\"請輸入國文分數:\"))\n",
        "if scores >= 80:\n",
        "  print(\"優\")\n",
        "elif scores >= 60:\n",
        "  print(\"及格\")\n",
        "else:\n",
        "  print(\"不及格\")"
      ],
      "metadata": {
        "id": "Mnbc6oRJ1BCE"
      },
      "execution_count": null,
      "outputs": []
    }
  ]
}