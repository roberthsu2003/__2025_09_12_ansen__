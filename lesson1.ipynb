{
  "nbformat": 4,
  "nbformat_minor": 0,
  "metadata": {
    "colab": {
      "provenance": [],
      "authorship_tag": "ABX9TyPEdVwE52MyOae3+j5Uuk8u",
      "include_colab_link": true
    },
    "kernelspec": {
      "name": "python3",
      "display_name": "Python 3"
    },
    "language_info": {
      "name": "python"
    }
  },
  "cells": [
    {
      "cell_type": "markdown",
      "metadata": {
        "id": "view-in-github",
        "colab_type": "text"
      },
      "source": [
        "<a href=\"https://colab.research.google.com/github/roberthsu2003/__2025_09_12_ansen__/blob/main/lesson1.ipynb\" target=\"_parent\"><img src=\"https://colab.research.google.com/assets/colab-badge.svg\" alt=\"Open In Colab\"/></a>"
      ]
    },
    {
      "cell_type": "code",
      "execution_count": null,
      "metadata": {
        "colab": {
          "base_uri": "https://localhost:8080/"
        },
        "id": "sw0GQ4DidMiM",
        "outputId": "dbc9e80d-872c-4505-b41a-6f959d327d11"
      },
      "outputs": [
        {
          "output_type": "stream",
          "name": "stdout",
          "text": [
            "Hello! World!\n"
          ]
        }
      ],
      "source": [
        "print(\"Hello! World!\")"
      ]
    },
    {
      "cell_type": "markdown",
      "source": [
        "### 數學運算\n",
        "**純值**"
      ],
      "metadata": {
        "id": "ONWGZMLCga2j"
      }
    },
    {
      "cell_type": "code",
      "source": [
        "#python的4個基本資料類型\n",
        "\n",
        "50 #int 純值\n",
        "50.0 #float 純值\n",
        "\"50\" #str 純值\n",
        "'50' #str 純值\n",
        "True #bool 純值"
      ],
      "metadata": {
        "colab": {
          "base_uri": "https://localhost:8080/"
        },
        "id": "UbmG6cCCgrvN",
        "outputId": "6a90fa26-c70d-4b9c-eca1-0f1343526fae"
      },
      "execution_count": 8,
      "outputs": [
        {
          "output_type": "execute_result",
          "data": {
            "text/plain": [
              "True"
            ]
          },
          "metadata": {},
          "execution_count": 8
        }
      ]
    },
    {
      "cell_type": "code",
      "source": [
        "#建立變數\n",
        "#\"=\"->指定運算子\n",
        "\n",
        "my_int = 50 #\"=\"是一個敘述式,不會傳出東西\n",
        "my_float = 50.0\n",
        "my_str = \"50\"\n",
        "my_str1 = '50'\n",
        "my_bool = True"
      ],
      "metadata": {
        "id": "J0bg6Mkkmkor"
      },
      "execution_count": 15,
      "outputs": []
    },
    {
      "cell_type": "code",
      "source": [
        "5 + 5\n",
        "10 - 5\n",
        "5 * 5\n",
        "9999 * 9999\n",
        "10 / 3"
      ],
      "metadata": {
        "colab": {
          "base_uri": "https://localhost:8080/"
        },
        "id": "Zt7RDQ4OqX88",
        "outputId": "f2db5a78-3405-4e45-9338-89df082dfaf0"
      },
      "execution_count": 20,
      "outputs": [
        {
          "output_type": "execute_result",
          "data": {
            "text/plain": [
              "3.3333333333333335"
            ]
          },
          "metadata": {},
          "execution_count": 20
        }
      ]
    },
    {
      "cell_type": "code",
      "source": [
        "n = 5 + 5\n",
        "n\n",
        "m = 10 - 5\n",
        "m\n",
        "n1 = 5 * 5\n",
        "n1\n",
        "m1 = 9999 * 99999\n",
        "m1"
      ],
      "metadata": {
        "colab": {
          "base_uri": "https://localhost:8080/"
        },
        "id": "Waro4NpPryiw",
        "outputId": "aca09a8a-c5bf-4f61-c1a2-338ae154bf56"
      },
      "execution_count": 26,
      "outputs": [
        {
          "output_type": "execute_result",
          "data": {
            "text/plain": [
              "999890001"
            ]
          },
          "metadata": {},
          "execution_count": 26
        }
      ]
    },
    {
      "cell_type": "code",
      "source": [
        "n * m"
      ],
      "metadata": {
        "colab": {
          "base_uri": "https://localhost:8080/"
        },
        "id": "vOBVsr8wtx-L",
        "outputId": "7d7e61b2-7d16-405c-ae46-f217331aa027"
      },
      "execution_count": 27,
      "outputs": [
        {
          "output_type": "execute_result",
          "data": {
            "text/plain": [
              "50"
            ]
          },
          "metadata": {},
          "execution_count": 27
        }
      ]
    },
    {
      "cell_type": "code",
      "source": [
        "chinese = 78.6\n",
        "english = 95.345\n",
        "math = 68.923\n",
        "total = chinese + english + math\n",
        "total"
      ],
      "metadata": {
        "colab": {
          "base_uri": "https://localhost:8080/"
        },
        "id": "Rh1KQbb3uA2r",
        "outputId": "a717aab8-02ce-450b-ca46-fb69a44ee4af"
      },
      "execution_count": 30,
      "outputs": [
        {
          "output_type": "execute_result",
          "data": {
            "text/plain": [
              "242.868"
            ]
          },
          "metadata": {},
          "execution_count": 30
        }
      ]
    },
    {
      "cell_type": "code",
      "source": [
        "width = 56.9\n",
        "height = 95.8\n",
        "area = width * height\n",
        "m2 = width * 2 + height * 2\n",
        "print(\"請計算矩形的面積和週長\")\n",
        "print(\"寬=\",width)\n",
        "print(\"高=\", height)\n",
        "print(\"面積=\",area)\n",
        "print(\"周長=\",m2)"
      ],
      "metadata": {
        "colab": {
          "base_uri": "https://localhost:8080/"
        },
        "id": "nHC60oI7vRaJ",
        "outputId": "8a4e69ba-3066-46e0-d044-df69537900c0"
      },
      "execution_count": 35,
      "outputs": [
        {
          "output_type": "stream",
          "name": "stdout",
          "text": [
            "請計算矩形的面積和週長\n",
            "寬= 56.9\n",
            "高= 95.8\n",
            "面積= 5451.0199999999995\n",
            "周長= 305.4\n"
          ]
        }
      ]
    }
  ]
}