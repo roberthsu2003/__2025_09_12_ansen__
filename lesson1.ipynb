{
  "nbformat": 4,
  "nbformat_minor": 0,
  "metadata": {
    "colab": {
      "provenance": [],
      "authorship_tag": "ABX9TyNLOYHVQyxiRG8gJvc48+PB",
      "include_colab_link": true
    },
    "kernelspec": {
      "name": "python3",
      "display_name": "Python 3"
    },
    "language_info": {
      "name": "python"
    }
  },
  "cells": [
    {
      "cell_type": "markdown",
      "metadata": {
        "id": "view-in-github",
        "colab_type": "text"
      },
      "source": [
        "<a href=\"https://colab.research.google.com/github/roberthsu2003/__2025_09_12_ansen__/blob/main/lesson1.ipynb\" target=\"_parent\"><img src=\"https://colab.research.google.com/assets/colab-badge.svg\" alt=\"Open In Colab\"/></a>"
      ]
    },
    {
      "cell_type": "code",
      "execution_count": null,
      "metadata": {
        "colab": {
          "base_uri": "https://localhost:8080/"
        },
        "id": "sw0GQ4DidMiM",
        "outputId": "dbc9e80d-872c-4505-b41a-6f959d327d11"
      },
      "outputs": [
        {
          "output_type": "stream",
          "name": "stdout",
          "text": [
            "Hello! World!\n"
          ]
        }
      ],
      "source": [
        "print(\"Hello! World!\")"
      ]
    },
    {
      "cell_type": "markdown",
      "source": [
        "### 數學運算\n",
        "**純值**"
      ],
      "metadata": {
        "id": "ONWGZMLCga2j"
      }
    },
    {
      "cell_type": "code",
      "source": [
        "#python的4個基本資料類型\n",
        "\n",
        "50 #int 純值\n",
        "50.0 #float 純值\n",
        "\"50\" #str 純值\n",
        "'50' #str 純值\n",
        "True #bool 純值"
      ],
      "metadata": {
        "id": "UbmG6cCCgrvN",
        "outputId": "6a90fa26-c70d-4b9c-eca1-0f1343526fae",
        "colab": {
          "base_uri": "https://localhost:8080/"
        }
      },
      "execution_count": 8,
      "outputs": [
        {
          "output_type": "execute_result",
          "data": {
            "text/plain": [
              "True"
            ]
          },
          "metadata": {},
          "execution_count": 8
        }
      ]
    }
  ]
}